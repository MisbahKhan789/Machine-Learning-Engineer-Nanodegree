{
 "cells": [
  {
   "cell_type": "code",
   "execution_count": 1,
   "metadata": {},
   "outputs": [
    {
     "name": "stderr",
     "output_type": "stream",
     "text": [
      "[nltk_data] Downloading package punkt to\n",
      "[nltk_data]     /Users/zhangcheng/nltk_data...\n",
      "[nltk_data]   Package punkt is already up-to-date!\n",
      "[nltk_data] Downloading package wordnet to\n",
      "[nltk_data]     /Users/zhangcheng/nltk_data...\n",
      "[nltk_data]   Package wordnet is already up-to-date!\n"
     ]
    },
    {
     "data": {
      "text/html": [
       "<div>\n",
       "<style scoped>\n",
       "    .dataframe tbody tr th:only-of-type {\n",
       "        vertical-align: middle;\n",
       "    }\n",
       "\n",
       "    .dataframe tbody tr th {\n",
       "        vertical-align: top;\n",
       "    }\n",
       "\n",
       "    .dataframe thead th {\n",
       "        text-align: right;\n",
       "    }\n",
       "</style>\n",
       "<table border=\"1\" class=\"dataframe\">\n",
       "  <thead>\n",
       "    <tr style=\"text-align: right;\">\n",
       "      <th></th>\n",
       "      <th>Date</th>\n",
       "      <th>Label</th>\n",
       "      <th>Top1</th>\n",
       "      <th>Top2</th>\n",
       "      <th>Top3</th>\n",
       "      <th>Top4</th>\n",
       "      <th>Top5</th>\n",
       "      <th>Top6</th>\n",
       "      <th>Top7</th>\n",
       "      <th>Top8</th>\n",
       "      <th>...</th>\n",
       "      <th>Top16</th>\n",
       "      <th>Top17</th>\n",
       "      <th>Top18</th>\n",
       "      <th>Top19</th>\n",
       "      <th>Top20</th>\n",
       "      <th>Top21</th>\n",
       "      <th>Top22</th>\n",
       "      <th>Top23</th>\n",
       "      <th>Top24</th>\n",
       "      <th>Top25</th>\n",
       "    </tr>\n",
       "  </thead>\n",
       "  <tbody>\n",
       "    <tr>\n",
       "      <th>0</th>\n",
       "      <td>2008-08-08</td>\n",
       "      <td>0</td>\n",
       "      <td>b\"Georgia 'downs two Russian warplanes' as cou...</td>\n",
       "      <td>b'BREAKING: Musharraf to be impeached.'</td>\n",
       "      <td>b'Russia Today: Columns of troops roll into So...</td>\n",
       "      <td>b'Russian tanks are moving towards the capital...</td>\n",
       "      <td>b\"Afghan children raped with 'impunity,' U.N. ...</td>\n",
       "      <td>b'150 Russian tanks have entered South Ossetia...</td>\n",
       "      <td>b\"Breaking: Georgia invades South Ossetia, Rus...</td>\n",
       "      <td>b\"The 'enemy combatent' trials are nothing but...</td>\n",
       "      <td>...</td>\n",
       "      <td>b'Georgia Invades South Ossetia - if Russia ge...</td>\n",
       "      <td>b'Al-Qaeda Faces Islamist Backlash'</td>\n",
       "      <td>b'Condoleezza Rice: \"The US would not act to p...</td>\n",
       "      <td>b'This is a busy day:  The European Union has ...</td>\n",
       "      <td>b\"Georgia will withdraw 1,000 soldiers from Ir...</td>\n",
       "      <td>b'Why the Pentagon Thinks Attacking Iran is a ...</td>\n",
       "      <td>b'Caucasus in crisis: Georgia invades South Os...</td>\n",
       "      <td>b'Indian shoe manufactory  - And again in a se...</td>\n",
       "      <td>b'Visitors Suffering from Mental Illnesses Ban...</td>\n",
       "      <td>b\"No Help for Mexico's Kidnapping Surge\"</td>\n",
       "    </tr>\n",
       "    <tr>\n",
       "      <th>1</th>\n",
       "      <td>2008-08-11</td>\n",
       "      <td>1</td>\n",
       "      <td>b'Why wont America and Nato help us? If they w...</td>\n",
       "      <td>b'Bush puts foot down on Georgian conflict'</td>\n",
       "      <td>b\"Jewish Georgian minister: Thanks to Israeli ...</td>\n",
       "      <td>b'Georgian army flees in disarray as Russians ...</td>\n",
       "      <td>b\"Olympic opening ceremony fireworks 'faked'\"</td>\n",
       "      <td>b'What were the Mossad with fraudulent New Zea...</td>\n",
       "      <td>b'Russia angered by Israeli military sale to G...</td>\n",
       "      <td>b'An American citizen living in S.Ossetia blam...</td>\n",
       "      <td>...</td>\n",
       "      <td>b'Israel and the US behind the Georgian aggres...</td>\n",
       "      <td>b'\"Do not believe TV, neither Russian nor Geor...</td>\n",
       "      <td>b'Riots are still going on in Montreal (Canada...</td>\n",
       "      <td>b'China to overtake US as largest manufacturer'</td>\n",
       "      <td>b'War in South Ossetia [PICS]'</td>\n",
       "      <td>b'Israeli Physicians Group Condemns State Tort...</td>\n",
       "      <td>b' Russia has just beaten the United States ov...</td>\n",
       "      <td>b'Perhaps *the* question about the Georgia - R...</td>\n",
       "      <td>b'Russia is so much better at war'</td>\n",
       "      <td>b\"So this is what it's come to: trading sex fo...</td>\n",
       "    </tr>\n",
       "    <tr>\n",
       "      <th>2</th>\n",
       "      <td>2008-08-12</td>\n",
       "      <td>0</td>\n",
       "      <td>b'Remember that adorable 9-year-old who sang a...</td>\n",
       "      <td>b\"Russia 'ends Georgia operation'\"</td>\n",
       "      <td>b'\"If we had no sexual harassment we would hav...</td>\n",
       "      <td>b\"Al-Qa'eda is losing support in Iraq because ...</td>\n",
       "      <td>b'Ceasefire in Georgia: Putin Outmaneuvers the...</td>\n",
       "      <td>b'Why Microsoft and Intel tried to kill the XO...</td>\n",
       "      <td>b'Stratfor: The Russo-Georgian War and the Bal...</td>\n",
       "      <td>b\"I'm Trying to Get a Sense of This Whole Geor...</td>\n",
       "      <td>...</td>\n",
       "      <td>b'U.S. troops still in Georgia (did you know t...</td>\n",
       "      <td>b'Why Russias response to Georgia was right'</td>\n",
       "      <td>b'Gorbachev accuses U.S. of making a \"serious ...</td>\n",
       "      <td>b'Russia, Georgia, and NATO: Cold War Two'</td>\n",
       "      <td>b'Remember that adorable 62-year-old who led y...</td>\n",
       "      <td>b'War in Georgia: The Israeli connection'</td>\n",
       "      <td>b'All signs point to the US encouraging Georgi...</td>\n",
       "      <td>b'Christopher King argues that the US and NATO...</td>\n",
       "      <td>b'America: The New Mexico?'</td>\n",
       "      <td>b\"BBC NEWS | Asia-Pacific | Extinction 'by man...</td>\n",
       "    </tr>\n",
       "    <tr>\n",
       "      <th>3</th>\n",
       "      <td>2008-08-13</td>\n",
       "      <td>0</td>\n",
       "      <td>b' U.S. refuses Israel weapons to attack Iran:...</td>\n",
       "      <td>b\"When the president ordered to attack Tskhinv...</td>\n",
       "      <td>b' Israel clears troops who killed Reuters cam...</td>\n",
       "      <td>b'Britain\\'s policy of being tough on drugs is...</td>\n",
       "      <td>b'Body of 14 year old found in trunk; Latest (...</td>\n",
       "      <td>b'China has moved 10 *million* quake survivors...</td>\n",
       "      <td>b\"Bush announces Operation Get All Up In Russi...</td>\n",
       "      <td>b'Russian forces sink Georgian ships '</td>\n",
       "      <td>...</td>\n",
       "      <td>b'Elephants extinct by 2020?'</td>\n",
       "      <td>b'US humanitarian missions soon in Georgia - i...</td>\n",
       "      <td>b\"Georgia's DDOS came from US sources\"</td>\n",
       "      <td>b'Russian convoy heads into Georgia, violating...</td>\n",
       "      <td>b'Israeli defence minister: US against strike ...</td>\n",
       "      <td>b'Gorbachev: We Had No Choice'</td>\n",
       "      <td>b'Witness: Russian forces head towards Tbilisi...</td>\n",
       "      <td>b' Quarter of Russians blame U.S. for conflict...</td>\n",
       "      <td>b'Georgian president  says US military will ta...</td>\n",
       "      <td>b'2006: Nobel laureate Aleksander Solzhenitsyn...</td>\n",
       "    </tr>\n",
       "    <tr>\n",
       "      <th>4</th>\n",
       "      <td>2008-08-14</td>\n",
       "      <td>1</td>\n",
       "      <td>b'All the experts admit that we should legalis...</td>\n",
       "      <td>b'War in South Osetia - 89 pictures made by a ...</td>\n",
       "      <td>b'Swedish wrestler Ara Abrahamian throws away ...</td>\n",
       "      <td>b'Russia exaggerated the death toll in South O...</td>\n",
       "      <td>b'Missile That Killed 9 Inside Pakistan May Ha...</td>\n",
       "      <td>b\"Rushdie Condemns Random House's Refusal to P...</td>\n",
       "      <td>b'Poland and US agree to missle defense deal. ...</td>\n",
       "      <td>b'Will the Russians conquer Tblisi? Bet on it,...</td>\n",
       "      <td>...</td>\n",
       "      <td>b'Bank analyst forecast Georgian crisis 2 days...</td>\n",
       "      <td>b\"Georgia confict could set back Russia's US r...</td>\n",
       "      <td>b'War in the Caucasus is as much the product o...</td>\n",
       "      <td>b'\"Non-media\" photos of South Ossetia/Georgia ...</td>\n",
       "      <td>b'Georgian TV reporter shot by Russian sniper ...</td>\n",
       "      <td>b'Saudi Arabia: Mother moves to block child ma...</td>\n",
       "      <td>b'Taliban wages war on humanitarian aid workers'</td>\n",
       "      <td>b'Russia: World  \"can forget about\" Georgia\\'s...</td>\n",
       "      <td>b'Darfur rebels accuse Sudan of mounting major...</td>\n",
       "      <td>b'Philippines : Peace Advocate say Muslims nee...</td>\n",
       "    </tr>\n",
       "  </tbody>\n",
       "</table>\n",
       "<p>5 rows × 27 columns</p>\n",
       "</div>"
      ],
      "text/plain": [
       "         Date  Label                                               Top1  \\\n",
       "0  2008-08-08      0  b\"Georgia 'downs two Russian warplanes' as cou...   \n",
       "1  2008-08-11      1  b'Why wont America and Nato help us? If they w...   \n",
       "2  2008-08-12      0  b'Remember that adorable 9-year-old who sang a...   \n",
       "3  2008-08-13      0  b' U.S. refuses Israel weapons to attack Iran:...   \n",
       "4  2008-08-14      1  b'All the experts admit that we should legalis...   \n",
       "\n",
       "                                                Top2  \\\n",
       "0            b'BREAKING: Musharraf to be impeached.'   \n",
       "1        b'Bush puts foot down on Georgian conflict'   \n",
       "2                 b\"Russia 'ends Georgia operation'\"   \n",
       "3  b\"When the president ordered to attack Tskhinv...   \n",
       "4  b'War in South Osetia - 89 pictures made by a ...   \n",
       "\n",
       "                                                Top3  \\\n",
       "0  b'Russia Today: Columns of troops roll into So...   \n",
       "1  b\"Jewish Georgian minister: Thanks to Israeli ...   \n",
       "2  b'\"If we had no sexual harassment we would hav...   \n",
       "3  b' Israel clears troops who killed Reuters cam...   \n",
       "4  b'Swedish wrestler Ara Abrahamian throws away ...   \n",
       "\n",
       "                                                Top4  \\\n",
       "0  b'Russian tanks are moving towards the capital...   \n",
       "1  b'Georgian army flees in disarray as Russians ...   \n",
       "2  b\"Al-Qa'eda is losing support in Iraq because ...   \n",
       "3  b'Britain\\'s policy of being tough on drugs is...   \n",
       "4  b'Russia exaggerated the death toll in South O...   \n",
       "\n",
       "                                                Top5  \\\n",
       "0  b\"Afghan children raped with 'impunity,' U.N. ...   \n",
       "1      b\"Olympic opening ceremony fireworks 'faked'\"   \n",
       "2  b'Ceasefire in Georgia: Putin Outmaneuvers the...   \n",
       "3  b'Body of 14 year old found in trunk; Latest (...   \n",
       "4  b'Missile That Killed 9 Inside Pakistan May Ha...   \n",
       "\n",
       "                                                Top6  \\\n",
       "0  b'150 Russian tanks have entered South Ossetia...   \n",
       "1  b'What were the Mossad with fraudulent New Zea...   \n",
       "2  b'Why Microsoft and Intel tried to kill the XO...   \n",
       "3  b'China has moved 10 *million* quake survivors...   \n",
       "4  b\"Rushdie Condemns Random House's Refusal to P...   \n",
       "\n",
       "                                                Top7  \\\n",
       "0  b\"Breaking: Georgia invades South Ossetia, Rus...   \n",
       "1  b'Russia angered by Israeli military sale to G...   \n",
       "2  b'Stratfor: The Russo-Georgian War and the Bal...   \n",
       "3  b\"Bush announces Operation Get All Up In Russi...   \n",
       "4  b'Poland and US agree to missle defense deal. ...   \n",
       "\n",
       "                                                Top8  ...  \\\n",
       "0  b\"The 'enemy combatent' trials are nothing but...  ...   \n",
       "1  b'An American citizen living in S.Ossetia blam...  ...   \n",
       "2  b\"I'm Trying to Get a Sense of This Whole Geor...  ...   \n",
       "3             b'Russian forces sink Georgian ships '  ...   \n",
       "4  b'Will the Russians conquer Tblisi? Bet on it,...  ...   \n",
       "\n",
       "                                               Top16  \\\n",
       "0  b'Georgia Invades South Ossetia - if Russia ge...   \n",
       "1  b'Israel and the US behind the Georgian aggres...   \n",
       "2  b'U.S. troops still in Georgia (did you know t...   \n",
       "3                      b'Elephants extinct by 2020?'   \n",
       "4  b'Bank analyst forecast Georgian crisis 2 days...   \n",
       "\n",
       "                                               Top17  \\\n",
       "0                b'Al-Qaeda Faces Islamist Backlash'   \n",
       "1  b'\"Do not believe TV, neither Russian nor Geor...   \n",
       "2       b'Why Russias response to Georgia was right'   \n",
       "3  b'US humanitarian missions soon in Georgia - i...   \n",
       "4  b\"Georgia confict could set back Russia's US r...   \n",
       "\n",
       "                                               Top18  \\\n",
       "0  b'Condoleezza Rice: \"The US would not act to p...   \n",
       "1  b'Riots are still going on in Montreal (Canada...   \n",
       "2  b'Gorbachev accuses U.S. of making a \"serious ...   \n",
       "3             b\"Georgia's DDOS came from US sources\"   \n",
       "4  b'War in the Caucasus is as much the product o...   \n",
       "\n",
       "                                               Top19  \\\n",
       "0  b'This is a busy day:  The European Union has ...   \n",
       "1    b'China to overtake US as largest manufacturer'   \n",
       "2         b'Russia, Georgia, and NATO: Cold War Two'   \n",
       "3  b'Russian convoy heads into Georgia, violating...   \n",
       "4  b'\"Non-media\" photos of South Ossetia/Georgia ...   \n",
       "\n",
       "                                               Top20  \\\n",
       "0  b\"Georgia will withdraw 1,000 soldiers from Ir...   \n",
       "1                     b'War in South Ossetia [PICS]'   \n",
       "2  b'Remember that adorable 62-year-old who led y...   \n",
       "3  b'Israeli defence minister: US against strike ...   \n",
       "4  b'Georgian TV reporter shot by Russian sniper ...   \n",
       "\n",
       "                                               Top21  \\\n",
       "0  b'Why the Pentagon Thinks Attacking Iran is a ...   \n",
       "1  b'Israeli Physicians Group Condemns State Tort...   \n",
       "2          b'War in Georgia: The Israeli connection'   \n",
       "3                     b'Gorbachev: We Had No Choice'   \n",
       "4  b'Saudi Arabia: Mother moves to block child ma...   \n",
       "\n",
       "                                               Top22  \\\n",
       "0  b'Caucasus in crisis: Georgia invades South Os...   \n",
       "1  b' Russia has just beaten the United States ov...   \n",
       "2  b'All signs point to the US encouraging Georgi...   \n",
       "3  b'Witness: Russian forces head towards Tbilisi...   \n",
       "4   b'Taliban wages war on humanitarian aid workers'   \n",
       "\n",
       "                                               Top23  \\\n",
       "0  b'Indian shoe manufactory  - And again in a se...   \n",
       "1  b'Perhaps *the* question about the Georgia - R...   \n",
       "2  b'Christopher King argues that the US and NATO...   \n",
       "3  b' Quarter of Russians blame U.S. for conflict...   \n",
       "4  b'Russia: World  \"can forget about\" Georgia\\'s...   \n",
       "\n",
       "                                               Top24  \\\n",
       "0  b'Visitors Suffering from Mental Illnesses Ban...   \n",
       "1                 b'Russia is so much better at war'   \n",
       "2                        b'America: The New Mexico?'   \n",
       "3  b'Georgian president  says US military will ta...   \n",
       "4  b'Darfur rebels accuse Sudan of mounting major...   \n",
       "\n",
       "                                               Top25  \n",
       "0           b\"No Help for Mexico's Kidnapping Surge\"  \n",
       "1  b\"So this is what it's come to: trading sex fo...  \n",
       "2  b\"BBC NEWS | Asia-Pacific | Extinction 'by man...  \n",
       "3  b'2006: Nobel laureate Aleksander Solzhenitsyn...  \n",
       "4  b'Philippines : Peace Advocate say Muslims nee...  \n",
       "\n",
       "[5 rows x 27 columns]"
      ]
     },
     "execution_count": 1,
     "metadata": {},
     "output_type": "execute_result"
    }
   ],
   "source": [
    "import pandas as pd\n",
    "import numpy as np \n",
    "import warnings\n",
    "from sklearn.model_selection import train_test_split\n",
    "from sklearn.feature_extraction.text import CountVectorizer\n",
    "from sklearn.ensemble import RandomForestClassifier\n",
    "from sklearn.svm import LinearSVC\n",
    "from sklearn.linear_model import LogisticRegression\n",
    "from sklearn.metrics import classification_report,confusion_matrix,accuracy_score\n",
    "from sklearn.model_selection import GridSearchCV\n",
    "import plotly.graph_objects as go\n",
    "import plotly.express as px\n",
    "import seaborn as sns\n",
    "import matplotlib.pyplot as plt\n",
    "import nltk\n",
    "import re\n",
    "nltk.download(['punkt', 'wordnet'])\n",
    "from nltk.tokenize import word_tokenize\n",
    "from nltk.stem import WordNetLemmatizer\n",
    "\n",
    "\n",
    "warnings.filterwarnings('ignore')\n",
    "\n",
    "# imported the file which contains top 25 headlines, stock went up or down(label) and date\n",
    "data = pd.read_csv('Combined_DJIA.csv')\n",
    "data.head()"
   ]
  },
  {
   "cell_type": "code",
   "execution_count": 2,
   "metadata": {},
   "outputs": [
    {
     "data": {
      "text/plain": [
       "(1989, 27)"
      ]
     },
     "execution_count": 2,
     "metadata": {},
     "output_type": "execute_result"
    }
   ],
   "source": [
    "# check for the columns & rows \n",
    "data.shape"
   ]
  },
  {
   "cell_type": "code",
   "execution_count": 3,
   "metadata": {},
   "outputs": [
    {
     "data": {
      "image/png": "[encoded data removed]",
      "text/plain": [
       "<Figure size 640x480 with 1 Axes>"
      ]
     },
     "metadata": {},
     "output_type": "display_data"
    }
   ],
   "source": [
    "plt.style.use('classic')\n",
    "\n",
    "sns.set()\n",
    "\n",
    "ax = sns.countplot(x='Label', hue='Label', data=data)"
   ]
  },
  {
   "cell_type": "code",
   "execution_count": 4,
   "metadata": {},
   "outputs": [],
   "source": [
    "# filling the null values with median \n",
    "\n",
    "data['Top23'].fillna(data['Top23'].median,inplace=True)\n",
    "data['Top24'].fillna(data['Top24'].median,inplace=True)\n",
    "data['Top25'].fillna(data['Top25'].median,inplace=True)"
   ]
  },
  {
   "cell_type": "code",
   "execution_count": 6,
   "metadata": {},
   "outputs": [
    {
     "data": {
      "text/plain": [
       "Date     0\n",
       "Label    0\n",
       "Top1     0\n",
       "Top2     0\n",
       "Top3     0\n",
       "Top4     0\n",
       "Top5     0\n",
       "Top6     0\n",
       "Top7     0\n",
       "Top8     0\n",
       "Top9     0\n",
       "Top10    0\n",
       "Top11    0\n",
       "Top12    0\n",
       "Top13    0\n",
       "Top14    0\n",
       "Top15    0\n",
       "Top16    0\n",
       "Top17    0\n",
       "Top18    0\n",
       "Top19    0\n",
       "Top20    0\n",
       "Top21    0\n",
       "Top22    0\n",
       "Top23    0\n",
       "Top24    0\n",
       "Top25    0\n",
       "dtype: int64"
      ]
     },
     "execution_count": 6,
     "metadata": {},
     "output_type": "execute_result"
    }
   ],
   "source": [
    "# check for NaN values\n",
    "data.isnull().sum()"
   ]
  },
  {
   "cell_type": "code",
   "execution_count": 7,
   "metadata": {},
   "outputs": [],
   "source": [
    "# create_df function convert top 25 news columns into one column of headlines on each day. \n",
    "def create_df(dataset):\n",
    "    \n",
    "    dataset = dataset.drop(columns=['Date', 'Label'])\n",
    "    dataset.replace(\"[^a-zA-Z]\", \" \", regex=True, inplace=True)\n",
    "    for col in dataset.columns:\n",
    "        dataset[col] = dataset[col].str.lower()\n",
    "        \n",
    "    headlines = []\n",
    "    for row in range(0, len(dataset.index)):\n",
    "        headlines.append(' '.join(str(x) for x in dataset.iloc[row, 0:25]))\n",
    "        \n",
    "    df = pd.DataFrame(headlines, columns=['headlines'])\n",
    "    df['label'] = data.Label\n",
    "    df['date'] = data.Date\n",
    "    \n",
    "    return df"
   ]
  },
  {
   "cell_type": "code",
   "execution_count": 8,
   "metadata": {},
   "outputs": [
    {
     "data": {
      "text/html": [
       "<div>\n",
       "<style scoped>\n",
       "    .dataframe tbody tr th:only-of-type {\n",
       "        vertical-align: middle;\n",
       "    }\n",
       "\n",
       "    .dataframe tbody tr th {\n",
       "        vertical-align: top;\n",
       "    }\n",
       "\n",
       "    .dataframe thead th {\n",
       "        text-align: right;\n",
       "    }\n",
       "</style>\n",
       "<table border=\"1\" class=\"dataframe\">\n",
       "  <thead>\n",
       "    <tr style=\"text-align: right;\">\n",
       "      <th></th>\n",
       "      <th>headlines</th>\n",
       "      <th>label</th>\n",
       "      <th>date</th>\n",
       "    </tr>\n",
       "  </thead>\n",
       "  <tbody>\n",
       "    <tr>\n",
       "      <th>0</th>\n",
       "      <td>b georgia  downs two russian warplanes  as cou...</td>\n",
       "      <td>0</td>\n",
       "      <td>2008-08-08</td>\n",
       "    </tr>\n",
       "    <tr>\n",
       "      <th>1</th>\n",
       "      <td>b why wont america and nato help us  if they w...</td>\n",
       "      <td>1</td>\n",
       "      <td>2008-08-11</td>\n",
       "    </tr>\n",
       "    <tr>\n",
       "      <th>2</th>\n",
       "      <td>b remember that adorable   year old who sang a...</td>\n",
       "      <td>0</td>\n",
       "      <td>2008-08-12</td>\n",
       "    </tr>\n",
       "    <tr>\n",
       "      <th>3</th>\n",
       "      <td>b  u s  refuses israel weapons to attack iran ...</td>\n",
       "      <td>0</td>\n",
       "      <td>2008-08-13</td>\n",
       "    </tr>\n",
       "    <tr>\n",
       "      <th>4</th>\n",
       "      <td>b all the experts admit that we should legalis...</td>\n",
       "      <td>1</td>\n",
       "      <td>2008-08-14</td>\n",
       "    </tr>\n",
       "  </tbody>\n",
       "</table>\n",
       "</div>"
      ],
      "text/plain": [
       "                                           headlines  label        date\n",
       "0  b georgia  downs two russian warplanes  as cou...      0  2008-08-08\n",
       "1  b why wont america and nato help us  if they w...      1  2008-08-11\n",
       "2  b remember that adorable   year old who sang a...      0  2008-08-12\n",
       "3  b  u s  refuses israel weapons to attack iran ...      0  2008-08-13\n",
       "4  b all the experts admit that we should legalis...      1  2008-08-14"
      ]
     },
     "execution_count": 8,
     "metadata": {},
     "output_type": "execute_result"
    }
   ],
   "source": [
    "df = create_df(data)\n",
    "df.head()"
   ]
  },
  {
   "cell_type": "code",
   "execution_count": 9,
   "metadata": {},
   "outputs": [],
   "source": [
    "X = df.headlines"
   ]
  },
  {
   "cell_type": "code",
   "execution_count": 10,
   "metadata": {},
   "outputs": [],
   "source": [
    "# tokenize into list of words\n",
    "def tokenize(text):\n",
    "    text = re.sub(r'[^\\w\\s]','',text)\n",
    "    tokens = word_tokenize(text)\n",
    "    lemmatizer = WordNetLemmatizer()\n",
    "\n",
    "    clean_tokens = []\n",
    "    for token in tokens:\n",
    "        clean_token = lemmatizer.lemmatize(token).lower().strip()\n",
    "        clean_tokens.append(clean_token)\n",
    "\n",
    "    return clean_tokens"
   ]
  },
  {
   "cell_type": "code",
   "execution_count": 11,
   "metadata": {},
   "outputs": [
    {
     "name": "stdout",
     "output_type": "stream",
     "text": [
      "b georgia  downs two russian warplanes  as countries move to brink of war  b breaking  musharraf to be impeached   b russia today  columns of troops roll into south ossetia  footage from fighting  youtube   b russian tanks are moving towards the capital of south ossetia  which has reportedly been completely destroyed by georgian artillery fire  b afghan children raped with  impunity   u n  official says   this is sick  a three year old was raped and they do nothing  b     russian tanks have entered south ossetia whilst georgia shoots down two russian jets   b breaking  georgia invades south ossetia  russia warned it would intervene on so s side  b the  enemy combatent  trials are nothing but a sham  salim haman has been sentenced to       years  but will be kept longer anyway just because they feel like it   b georgian troops retreat from s  osettain capital  presumably leaving several hundred people killed   video   b did the u s  prep georgia for war with russia   b rice gives green light for israel to attack iran  says u s  has no veto over israeli military ops  b announcing class action lawsuit on behalf of american public against the fbi  b so   russia and georgia are at war and the nyt s top story is opening ceremonies of the olympics   what a fucking disgrace and yet further proof of the decline of journalism   b china tells bush to stay out of other countries  affairs  b did world war iii start today   b georgia invades south ossetia   if russia gets involved  will nato absorb georgia and unleash a full scale war   b al qaeda faces islamist backlash  b condoleezza rice   the us would not act to prevent an israeli strike on iran   israeli defense minister ehud barak   israel is prepared for uncompromising victory in the case of military hostilities    b this is a busy day   the european union has approved new sanctions against iran in protest at its nuclear programme   b georgia will withdraw       soldiers from iraq to help fight off russian forces in georgia s breakaway region of south ossetia  b why the pentagon thinks attacking iran is a bad idea   us news  amp  world report  b caucasus in crisis  georgia invades south ossetia  b indian shoe manufactory    and again in a series of  you do not like your work    b visitors suffering from mental illnesses banned from olympics  b no help for mexico s kidnapping surge \n",
      "['b', 'georgia', 'down', 'two', 'russian', 'warplane', 'a', 'country', 'move', 'to', 'brink', 'of', 'war', 'b', 'breaking', 'musharraf', 'to', 'be', 'impeached', 'b', 'russia', 'today', 'column', 'of', 'troop', 'roll', 'into', 'south', 'ossetia', 'footage', 'from', 'fighting', 'youtube', 'b', 'russian', 'tank', 'are', 'moving', 'towards', 'the', 'capital', 'of', 'south', 'ossetia', 'which', 'ha', 'reportedly', 'been', 'completely', 'destroyed', 'by', 'georgian', 'artillery', 'fire', 'b', 'afghan', 'child', 'raped', 'with', 'impunity', 'u', 'n', 'official', 'say', 'this', 'is', 'sick', 'a', 'three', 'year', 'old', 'wa', 'raped', 'and', 'they', 'do', 'nothing', 'b', 'russian', 'tank', 'have', 'entered', 'south', 'ossetia', 'whilst', 'georgia', 'shoot', 'down', 'two', 'russian', 'jet', 'b', 'breaking', 'georgia', 'invades', 'south', 'ossetia', 'russia', 'warned', 'it', 'would', 'intervene', 'on', 'so', 's', 'side', 'b', 'the', 'enemy', 'combatent', 'trial', 'are', 'nothing', 'but', 'a', 'sham', 'salim', 'haman', 'ha', 'been', 'sentenced', 'to', 'year', 'but', 'will', 'be', 'kept', 'longer', 'anyway', 'just', 'because', 'they', 'feel', 'like', 'it', 'b', 'georgian', 'troop', 'retreat', 'from', 's', 'osettain', 'capital', 'presumably', 'leaving', 'several', 'hundred', 'people', 'killed', 'video', 'b', 'did', 'the', 'u', 's', 'prep', 'georgia', 'for', 'war', 'with', 'russia', 'b', 'rice', 'give', 'green', 'light', 'for', 'israel', 'to', 'attack', 'iran', 'say', 'u', 's', 'ha', 'no', 'veto', 'over', 'israeli', 'military', 'ops', 'b', 'announcing', 'class', 'action', 'lawsuit', 'on', 'behalf', 'of', 'american', 'public', 'against', 'the', 'fbi', 'b', 'so', 'russia', 'and', 'georgia', 'are', 'at', 'war', 'and', 'the', 'nyt', 's', 'top', 'story', 'is', 'opening', 'ceremony', 'of', 'the', 'olympics', 'what', 'a', 'fucking', 'disgrace', 'and', 'yet', 'further', 'proof', 'of', 'the', 'decline', 'of', 'journalism', 'b', 'china', 'tell', 'bush', 'to', 'stay', 'out', 'of', 'other', 'country', 'affair', 'b', 'did', 'world', 'war', 'iii', 'start', 'today', 'b', 'georgia', 'invades', 'south', 'ossetia', 'if', 'russia', 'get', 'involved', 'will', 'nato', 'absorb', 'georgia', 'and', 'unleash', 'a', 'full', 'scale', 'war', 'b', 'al', 'qaeda', 'face', 'islamist', 'backlash', 'b', 'condoleezza', 'rice', 'the', 'u', 'would', 'not', 'act', 'to', 'prevent', 'an', 'israeli', 'strike', 'on', 'iran', 'israeli', 'defense', 'minister', 'ehud', 'barak', 'israel', 'is', 'prepared', 'for', 'uncompromising', 'victory', 'in', 'the', 'case', 'of', 'military', 'hostility', 'b', 'this', 'is', 'a', 'busy', 'day', 'the', 'european', 'union', 'ha', 'approved', 'new', 'sanction', 'against', 'iran', 'in', 'protest', 'at', 'it', 'nuclear', 'programme', 'b', 'georgia', 'will', 'withdraw', 'soldier', 'from', 'iraq', 'to', 'help', 'fight', 'off', 'russian', 'force', 'in', 'georgia', 's', 'breakaway', 'region', 'of', 'south', 'ossetia', 'b', 'why', 'the', 'pentagon', 'think', 'attacking', 'iran', 'is', 'a', 'bad', 'idea', 'u', 'news', 'amp', 'world', 'report', 'b', 'caucasus', 'in', 'crisis', 'georgia', 'invades', 'south', 'ossetia', 'b', 'indian', 'shoe', 'manufactory', 'and', 'again', 'in', 'a', 'series', 'of', 'you', 'do', 'not', 'like', 'your', 'work', 'b', 'visitor', 'suffering', 'from', 'mental', 'illness', 'banned', 'from', 'olympics', 'b', 'no', 'help', 'for', 'mexico', 's', 'kidnapping', 'surge']\n"
     ]
    }
   ],
   "source": [
    "# example for tokenize test \n",
    "for message in X[:1]:\n",
    "    print(message)\n",
    "    print(tokenize(message))"
   ]
  },
  {
   "cell_type": "code",
   "execution_count": 12,
   "metadata": {},
   "outputs": [],
   "source": [
    "# initialize data pipeline\n",
    "\n",
    "from sklearn.pipeline import Pipeline\n",
    "from sklearn.feature_extraction.text import CountVectorizer, TfidfTransformer\n",
    "\n",
    "pipeline = Pipeline([\n",
    "        ('vect', CountVectorizer(tokenizer=tokenize, stop_words = 'english')),\n",
    "        ('tfidf', TfidfTransformer()),\n",
    "        ('clf', RandomForestClassifier())\n",
    "    ])"
   ]
  },
  {
   "cell_type": "code",
   "execution_count": 13,
   "metadata": {},
   "outputs": [
    {
     "data": {
      "text/html": [
       "<div>\n",
       "<style scoped>\n",
       "    .dataframe tbody tr th:only-of-type {\n",
       "        vertical-align: middle;\n",
       "    }\n",
       "\n",
       "    .dataframe tbody tr th {\n",
       "        vertical-align: top;\n",
       "    }\n",
       "\n",
       "    .dataframe thead th {\n",
       "        text-align: right;\n",
       "    }\n",
       "</style>\n",
       "<table border=\"1\" class=\"dataframe\">\n",
       "  <thead>\n",
       "    <tr style=\"text-align: right;\">\n",
       "      <th></th>\n",
       "      <th>headlines</th>\n",
       "      <th>label</th>\n",
       "      <th>date</th>\n",
       "    </tr>\n",
       "  </thead>\n",
       "  <tbody>\n",
       "    <tr>\n",
       "      <th>0</th>\n",
       "      <td>b georgia  downs two russian warplanes  as cou...</td>\n",
       "      <td>0</td>\n",
       "      <td>2008-08-08</td>\n",
       "    </tr>\n",
       "    <tr>\n",
       "      <th>1</th>\n",
       "      <td>b why wont america and nato help us  if they w...</td>\n",
       "      <td>1</td>\n",
       "      <td>2008-08-11</td>\n",
       "    </tr>\n",
       "    <tr>\n",
       "      <th>2</th>\n",
       "      <td>b remember that adorable   year old who sang a...</td>\n",
       "      <td>0</td>\n",
       "      <td>2008-08-12</td>\n",
       "    </tr>\n",
       "    <tr>\n",
       "      <th>3</th>\n",
       "      <td>b  u s  refuses israel weapons to attack iran ...</td>\n",
       "      <td>0</td>\n",
       "      <td>2008-08-13</td>\n",
       "    </tr>\n",
       "    <tr>\n",
       "      <th>4</th>\n",
       "      <td>b all the experts admit that we should legalis...</td>\n",
       "      <td>1</td>\n",
       "      <td>2008-08-14</td>\n",
       "    </tr>\n",
       "  </tbody>\n",
       "</table>\n",
       "</div>"
      ],
      "text/plain": [
       "                                           headlines  label        date\n",
       "0  b georgia  downs two russian warplanes  as cou...      0  2008-08-08\n",
       "1  b why wont america and nato help us  if they w...      1  2008-08-11\n",
       "2  b remember that adorable   year old who sang a...      0  2008-08-12\n",
       "3  b  u s  refuses israel weapons to attack iran ...      0  2008-08-13\n",
       "4  b all the experts admit that we should legalis...      1  2008-08-14"
      ]
     },
     "execution_count": 13,
     "metadata": {},
     "output_type": "execute_result"
    }
   ],
   "source": [
    "df.head()"
   ]
  },
  {
   "cell_type": "code",
   "execution_count": 14,
   "metadata": {},
   "outputs": [],
   "source": [
    "# seperating the data into train and test by date following the instruction by the data creator\n",
    "train = df[df['date'] < '20150101']\n",
    "test = df[df['date'] > '20141231']"
   ]
  },
  {
   "cell_type": "code",
   "execution_count": 15,
   "metadata": {},
   "outputs": [],
   "source": [
    "# selecting features and targets \n",
    "x_train = train.headlines\n",
    "y_train = train.label\n",
    "x_test = test.headlines\n",
    "y_test = test.label"
   ]
  },
  {
   "cell_type": "code",
   "execution_count": 16,
   "metadata": {},
   "outputs": [
    {
     "data": {
      "text/plain": [
       "Pipeline(steps=[('vect',\n",
       "                 CountVectorizer(stop_words='english',\n",
       "                                 tokenizer=<function tokenize at 0x7fe88691c7a0>)),\n",
       "                ('tfidf', TfidfTransformer()),\n",
       "                ('clf', RandomForestClassifier())])"
      ]
     },
     "execution_count": 16,
     "metadata": {},
     "output_type": "execute_result"
    }
   ],
   "source": [
    "# fit on the pipeline \n",
    "pipeline.fit(x_train, y_train)"
   ]
  },
  {
   "cell_type": "code",
   "execution_count": 17,
   "metadata": {},
   "outputs": [],
   "source": [
    "# predicting the results \n",
    "y_pred = pipeline.predict(x_test)"
   ]
  },
  {
   "cell_type": "code",
   "execution_count": 18,
   "metadata": {},
   "outputs": [
    {
     "name": "stdout",
     "output_type": "stream",
     "text": [
      "              precision    recall  f1-score   support\n",
      "\n",
      "           0       0.84      0.80      0.82       186\n",
      "           1       0.81      0.85      0.83       192\n",
      "\n",
      "    accuracy                           0.83       378\n",
      "   macro avg       0.83      0.83      0.83       378\n",
      "weighted avg       0.83      0.83      0.83       378\n",
      "\n"
     ]
    }
   ],
   "source": [
    "# import the class report function for benchmark model evaluation. \n",
    "from sklearn.metrics import classification_report \n",
    "\n",
    "print(classification_report(y_test, y_pred))"
   ]
  },
  {
   "cell_type": "code",
   "execution_count": 68,
   "metadata": {},
   "outputs": [],
   "source": [
    "# model refinement using GridSearch CV\n",
    "from sklearn.model_selection import GridSearchCV # method using GridSearchCV\n",
    "\n",
    "parameters = {\n",
    "        'vect__ngram_range': ((1, 1), (2, 2)),\n",
    "        'clf__n_estimators': [50, 100, 150, 200, 250, 300]\n",
    "    }\n",
    "\n",
    "Grid = GridSearchCV(pipeline, param_grid=parameters, cv= 3, verbose=10)"
   ]
  },
  {
   "cell_type": "code",
   "execution_count": 69,
   "metadata": {},
   "outputs": [
    {
     "name": "stdout",
     "output_type": "stream",
     "text": [
      "Fitting 3 folds for each of 12 candidates, totalling 36 fits\n",
      "[CV] clf__n_estimators=50, vect__ngram_range=(1, 1) ..................\n"
     ]
    },
    {
     "name": "stderr",
     "output_type": "stream",
     "text": [
      "[Parallel(n_jobs=1)]: Using backend SequentialBackend with 1 concurrent workers.\n"
     ]
    },
    {
     "name": "stdout",
     "output_type": "stream",
     "text": [
      "[CV]  clf__n_estimators=50, vect__ngram_range=(1, 1), score=0.496, total=  37.9s\n",
      "[CV] clf__n_estimators=50, vect__ngram_range=(1, 1) ..................\n"
     ]
    },
    {
     "name": "stderr",
     "output_type": "stream",
     "text": [
      "[Parallel(n_jobs=1)]: Done   1 out of   1 | elapsed:   37.9s remaining:    0.0s\n"
     ]
    },
    {
     "name": "stdout",
     "output_type": "stream",
     "text": [
      "[CV]  clf__n_estimators=50, vect__ngram_range=(1, 1), score=0.512, total=  44.9s\n",
      "[CV] clf__n_estimators=50, vect__ngram_range=(1, 1) ..................\n"
     ]
    },
    {
     "name": "stderr",
     "output_type": "stream",
     "text": [
      "[Parallel(n_jobs=1)]: Done   2 out of   2 | elapsed:  1.4min remaining:    0.0s\n"
     ]
    },
    {
     "name": "stdout",
     "output_type": "stream",
     "text": [
      "[CV]  clf__n_estimators=50, vect__ngram_range=(1, 1), score=0.522, total=  34.9s\n",
      "[CV] clf__n_estimators=50, vect__ngram_range=(2, 2) ..................\n"
     ]
    },
    {
     "name": "stderr",
     "output_type": "stream",
     "text": [
      "[Parallel(n_jobs=1)]: Done   3 out of   3 | elapsed:  2.0min remaining:    0.0s\n"
     ]
    },
    {
     "name": "stdout",
     "output_type": "stream",
     "text": [
      "[CV]  clf__n_estimators=50, vect__ngram_range=(2, 2), score=0.527, total=  43.3s\n",
      "[CV] clf__n_estimators=50, vect__ngram_range=(2, 2) ..................\n"
     ]
    },
    {
     "name": "stderr",
     "output_type": "stream",
     "text": [
      "[Parallel(n_jobs=1)]: Done   4 out of   4 | elapsed:  2.7min remaining:    0.0s\n"
     ]
    },
    {
     "name": "stdout",
     "output_type": "stream",
     "text": [
      "[CV]  clf__n_estimators=50, vect__ngram_range=(2, 2), score=0.538, total= 1.1min\n",
      "[CV] clf__n_estimators=50, vect__ngram_range=(2, 2) ..................\n"
     ]
    },
    {
     "name": "stderr",
     "output_type": "stream",
     "text": [
      "[Parallel(n_jobs=1)]: Done   5 out of   5 | elapsed:  3.8min remaining:    0.0s\n"
     ]
    },
    {
     "name": "stdout",
     "output_type": "stream",
     "text": [
      "[CV]  clf__n_estimators=50, vect__ngram_range=(2, 2), score=0.527, total=  56.6s\n",
      "[CV] clf__n_estimators=100, vect__ngram_range=(1, 1) .................\n"
     ]
    },
    {
     "name": "stderr",
     "output_type": "stream",
     "text": [
      "[Parallel(n_jobs=1)]: Done   6 out of   6 | elapsed:  4.7min remaining:    0.0s\n"
     ]
    },
    {
     "name": "stdout",
     "output_type": "stream",
     "text": [
      "[CV]  clf__n_estimators=100, vect__ngram_range=(1, 1), score=0.517, total=  51.9s\n",
      "[CV] clf__n_estimators=100, vect__ngram_range=(1, 1) .................\n"
     ]
    },
    {
     "name": "stderr",
     "output_type": "stream",
     "text": [
      "[Parallel(n_jobs=1)]: Done   7 out of   7 | elapsed:  5.6min remaining:    0.0s\n"
     ]
    },
    {
     "name": "stdout",
     "output_type": "stream",
     "text": [
      "[CV]  clf__n_estimators=100, vect__ngram_range=(1, 1), score=0.507, total=  47.3s\n",
      "[CV] clf__n_estimators=100, vect__ngram_range=(1, 1) .................\n"
     ]
    },
    {
     "name": "stderr",
     "output_type": "stream",
     "text": [
      "[Parallel(n_jobs=1)]: Done   8 out of   8 | elapsed:  6.4min remaining:    0.0s\n"
     ]
    },
    {
     "name": "stdout",
     "output_type": "stream",
     "text": [
      "[CV]  clf__n_estimators=100, vect__ngram_range=(1, 1), score=0.456, total=  40.6s\n",
      "[CV] clf__n_estimators=100, vect__ngram_range=(2, 2) .................\n"
     ]
    },
    {
     "name": "stderr",
     "output_type": "stream",
     "text": [
      "[Parallel(n_jobs=1)]: Done   9 out of   9 | elapsed:  7.0min remaining:    0.0s\n"
     ]
    },
    {
     "name": "stdout",
     "output_type": "stream",
     "text": [
      "[CV]  clf__n_estimators=100, vect__ngram_range=(2, 2), score=0.515, total= 1.2min\n",
      "[CV] clf__n_estimators=100, vect__ngram_range=(2, 2) .................\n",
      "[CV]  clf__n_estimators=100, vect__ngram_range=(2, 2), score=0.533, total= 1.1min\n",
      "[CV] clf__n_estimators=100, vect__ngram_range=(2, 2) .................\n",
      "[CV]  clf__n_estimators=100, vect__ngram_range=(2, 2), score=0.515, total=  48.3s\n",
      "[CV] clf__n_estimators=150, vect__ngram_range=(1, 1) .................\n",
      "[CV]  clf__n_estimators=150, vect__ngram_range=(1, 1), score=0.519, total=  36.4s\n",
      "[CV] clf__n_estimators=150, vect__ngram_range=(1, 1) .................\n",
      "[CV]  clf__n_estimators=150, vect__ngram_range=(1, 1), score=0.480, total=  37.8s\n",
      "[CV] clf__n_estimators=150, vect__ngram_range=(1, 1) .................\n",
      "[CV]  clf__n_estimators=150, vect__ngram_range=(1, 1), score=0.527, total=  36.0s\n",
      "[CV] clf__n_estimators=150, vect__ngram_range=(2, 2) .................\n",
      "[CV]  clf__n_estimators=150, vect__ngram_range=(2, 2), score=0.519, total=  47.3s\n",
      "[CV] clf__n_estimators=150, vect__ngram_range=(2, 2) .................\n",
      "[CV]  clf__n_estimators=150, vect__ngram_range=(2, 2), score=0.538, total=  41.1s\n",
      "[CV] clf__n_estimators=150, vect__ngram_range=(2, 2) .................\n",
      "[CV]  clf__n_estimators=150, vect__ngram_range=(2, 2), score=0.531, total=  42.7s\n",
      "[CV] clf__n_estimators=200, vect__ngram_range=(1, 1) .................\n",
      "[CV]  clf__n_estimators=200, vect__ngram_range=(1, 1), score=0.502, total=  30.9s\n",
      "[CV] clf__n_estimators=200, vect__ngram_range=(1, 1) .................\n",
      "[CV]  clf__n_estimators=200, vect__ngram_range=(1, 1), score=0.490, total=  32.6s\n",
      "[CV] clf__n_estimators=200, vect__ngram_range=(1, 1) .................\n",
      "[CV]  clf__n_estimators=200, vect__ngram_range=(1, 1), score=0.504, total=  30.3s\n",
      "[CV] clf__n_estimators=200, vect__ngram_range=(2, 2) .................\n",
      "[CV]  clf__n_estimators=200, vect__ngram_range=(2, 2), score=0.527, total=  45.2s\n",
      "[CV] clf__n_estimators=200, vect__ngram_range=(2, 2) .................\n",
      "[CV]  clf__n_estimators=200, vect__ngram_range=(2, 2), score=0.539, total=  45.8s\n",
      "[CV] clf__n_estimators=200, vect__ngram_range=(2, 2) .................\n",
      "[CV]  clf__n_estimators=200, vect__ngram_range=(2, 2), score=0.493, total=  54.2s\n",
      "[CV] clf__n_estimators=250, vect__ngram_range=(1, 1) .................\n",
      "[CV]  clf__n_estimators=250, vect__ngram_range=(1, 1), score=0.523, total=  54.3s\n",
      "[CV] clf__n_estimators=250, vect__ngram_range=(1, 1) .................\n",
      "[CV]  clf__n_estimators=250, vect__ngram_range=(1, 1), score=0.481, total=  41.6s\n",
      "[CV] clf__n_estimators=250, vect__ngram_range=(1, 1) .................\n",
      "[CV]  clf__n_estimators=250, vect__ngram_range=(1, 1), score=0.485, total=  35.0s\n",
      "[CV] clf__n_estimators=250, vect__ngram_range=(2, 2) .................\n",
      "[CV]  clf__n_estimators=250, vect__ngram_range=(2, 2), score=0.517, total=  52.0s\n",
      "[CV] clf__n_estimators=250, vect__ngram_range=(2, 2) .................\n",
      "[CV]  clf__n_estimators=250, vect__ngram_range=(2, 2), score=0.538, total=  54.1s\n",
      "[CV] clf__n_estimators=250, vect__ngram_range=(2, 2) .................\n",
      "[CV]  clf__n_estimators=250, vect__ngram_range=(2, 2), score=0.515, total=  49.7s\n",
      "[CV] clf__n_estimators=300, vect__ngram_range=(1, 1) .................\n",
      "[CV]  clf__n_estimators=300, vect__ngram_range=(1, 1), score=0.527, total=  37.9s\n",
      "[CV] clf__n_estimators=300, vect__ngram_range=(1, 1) .................\n",
      "[CV]  clf__n_estimators=300, vect__ngram_range=(1, 1), score=0.480, total=  34.5s\n",
      "[CV] clf__n_estimators=300, vect__ngram_range=(1, 1) .................\n",
      "[CV]  clf__n_estimators=300, vect__ngram_range=(1, 1), score=0.502, total=  35.9s\n",
      "[CV] clf__n_estimators=300, vect__ngram_range=(2, 2) .................\n",
      "[CV]  clf__n_estimators=300, vect__ngram_range=(2, 2), score=0.519, total=  57.6s\n",
      "[CV] clf__n_estimators=300, vect__ngram_range=(2, 2) .................\n",
      "[CV]  clf__n_estimators=300, vect__ngram_range=(2, 2), score=0.531, total=  56.6s\n",
      "[CV] clf__n_estimators=300, vect__ngram_range=(2, 2) .................\n",
      "[CV]  clf__n_estimators=300, vect__ngram_range=(2, 2), score=0.517, total=  59.6s\n"
     ]
    },
    {
     "name": "stderr",
     "output_type": "stream",
     "text": [
      "[Parallel(n_jobs=1)]: Done  36 out of  36 | elapsed: 27.6min finished\n"
     ]
    },
    {
     "data": {
      "text/plain": [
       "GridSearchCV(cv=3,\n",
       "             estimator=Pipeline(steps=[('vect',\n",
       "                                        CountVectorizer(stop_words='english',\n",
       "                                                        tokenizer=<function tokenize at 0x7ffc391583b0>)),\n",
       "                                       ('tfidf', TfidfTransformer()),\n",
       "                                       ('clf', RandomForestClassifier())]),\n",
       "             param_grid={'clf__n_estimators': [50, 100, 150, 200, 250, 300],\n",
       "                         'vect__ngram_range': ((1, 1), (2, 2))},\n",
       "             verbose=10)"
      ]
     },
     "execution_count": 69,
     "metadata": {},
     "output_type": "execute_result"
    }
   ],
   "source": [
    "Grid.fit(x_train, y_train)"
   ]
  },
  {
   "cell_type": "code",
   "execution_count": 81,
   "metadata": {},
   "outputs": [
    {
     "data": {
      "text/plain": [
       "{'clf__n_estimators': 50, 'vect__ngram_range': (2, 2)}"
      ]
     },
     "execution_count": 81,
     "metadata": {},
     "output_type": "execute_result"
    }
   ],
   "source": [
    "Grid.best_params_"
   ]
  },
  {
   "cell_type": "code",
   "execution_count": 70,
   "metadata": {},
   "outputs": [
    {
     "name": "stdout",
     "output_type": "stream",
     "text": [
      "              precision    recall  f1-score   support\n",
      "\n",
      "           0       0.88      0.78      0.83       186\n",
      "           1       0.81      0.90      0.85       192\n",
      "\n",
      "    accuracy                           0.84       378\n",
      "   macro avg       0.85      0.84      0.84       378\n",
      "weighted avg       0.85      0.84      0.84       378\n",
      "\n"
     ]
    }
   ],
   "source": [
    "# improved predicting results as refined. \n",
    "y_im_pred = Grid.predict(x_test)\n",
    "\n",
    "print(classification_report(y_test, y_im_pred))"
   ]
  },
  {
   "cell_type": "code",
   "execution_count": 76,
   "metadata": {},
   "outputs": [],
   "source": [
    "# trying on another benchmark model. \n",
    "pipeline_new = Pipeline([\n",
    "        ('vect', CountVectorizer(tokenizer=tokenize, stop_words = 'english')),\n",
    "        ('tfidf', TfidfTransformer()),\n",
    "        ('clf', LogisticRegression())])"
   ]
  },
  {
   "cell_type": "code",
   "execution_count": 77,
   "metadata": {},
   "outputs": [
    {
     "data": {
      "text/plain": [
       "Pipeline(steps=[('vect',\n",
       "                 CountVectorizer(stop_words='english',\n",
       "                                 tokenizer=<function tokenize at 0x7ffc391583b0>)),\n",
       "                ('tfidf', TfidfTransformer()), ('clf', LogisticRegression())])"
      ]
     },
     "execution_count": 77,
     "metadata": {},
     "output_type": "execute_result"
    }
   ],
   "source": [
    "pipeline_new.fit(x_train, y_train)"
   ]
  },
  {
   "cell_type": "code",
   "execution_count": 78,
   "metadata": {},
   "outputs": [],
   "source": [
    "# improved predicting results \n",
    "y_pred = pipeline_new.predict(x_test)"
   ]
  },
  {
   "cell_type": "code",
   "execution_count": 79,
   "metadata": {},
   "outputs": [
    {
     "name": "stdout",
     "output_type": "stream",
     "text": [
      "              precision    recall  f1-score   support\n",
      "\n",
      "           0       0.89      0.73      0.80       186\n",
      "           1       0.78      0.91      0.84       192\n",
      "\n",
      "    accuracy                           0.82       378\n",
      "   macro avg       0.83      0.82      0.82       378\n",
      "weighted avg       0.83      0.82      0.82       378\n",
      "\n"
     ]
    }
   ],
   "source": [
    "print(classification_report(y_test, y_pred))"
   ]
  },
  {
   "cell_type": "code",
   "execution_count": 98,
   "metadata": {},
   "outputs": [],
   "source": [
    "parameters_new = {\n",
    "        'vect__ngram_range': ((1, 1), (2, 2)),\n",
    "        'clf__C': [0.001, 0.01, 0.1, 1, 10, 100, 1000, 10000]\n",
    "    }\n",
    "\n",
    "Grid_new = GridSearchCV(pipeline_new, param_grid=parameters_new, cv= 3, verbose=10)"
   ]
  },
  {
   "cell_type": "code",
   "execution_count": 99,
   "metadata": {},
   "outputs": [
    {
     "name": "stdout",
     "output_type": "stream",
     "text": [
      "Fitting 3 folds for each of 16 candidates, totalling 48 fits\n",
      "[CV] clf__C=0.001, vect__ngram_range=(1, 1) ..........................\n"
     ]
    },
    {
     "name": "stderr",
     "output_type": "stream",
     "text": [
      "[Parallel(n_jobs=1)]: Using backend SequentialBackend with 1 concurrent workers.\n"
     ]
    },
    {
     "name": "stdout",
     "output_type": "stream",
     "text": [
      "[CV]  clf__C=0.001, vect__ngram_range=(1, 1), score=0.533, total=  29.1s\n",
      "[CV] clf__C=0.001, vect__ngram_range=(1, 1) ..........................\n"
     ]
    },
    {
     "name": "stderr",
     "output_type": "stream",
     "text": [
      "[Parallel(n_jobs=1)]: Done   1 out of   1 | elapsed:   29.1s remaining:    0.0s\n"
     ]
    },
    {
     "name": "stdout",
     "output_type": "stream",
     "text": [
      "[CV]  clf__C=0.001, vect__ngram_range=(1, 1), score=0.535, total=  27.6s\n",
      "[CV] clf__C=0.001, vect__ngram_range=(1, 1) ..........................\n"
     ]
    },
    {
     "name": "stderr",
     "output_type": "stream",
     "text": [
      "[Parallel(n_jobs=1)]: Done   2 out of   2 | elapsed:   56.7s remaining:    0.0s\n"
     ]
    },
    {
     "name": "stdout",
     "output_type": "stream",
     "text": [
      "[CV]  clf__C=0.001, vect__ngram_range=(1, 1), score=0.535, total=  30.3s\n",
      "[CV] clf__C=0.001, vect__ngram_range=(2, 2) ..........................\n"
     ]
    },
    {
     "name": "stderr",
     "output_type": "stream",
     "text": [
      "[Parallel(n_jobs=1)]: Done   3 out of   3 | elapsed:  1.5min remaining:    0.0s\n"
     ]
    },
    {
     "name": "stdout",
     "output_type": "stream",
     "text": [
      "[CV]  clf__C=0.001, vect__ngram_range=(2, 2), score=0.533, total=  32.8s\n",
      "[CV] clf__C=0.001, vect__ngram_range=(2, 2) ..........................\n"
     ]
    },
    {
     "name": "stderr",
     "output_type": "stream",
     "text": [
      "[Parallel(n_jobs=1)]: Done   4 out of   4 | elapsed:  2.0min remaining:    0.0s\n"
     ]
    },
    {
     "name": "stdout",
     "output_type": "stream",
     "text": [
      "[CV]  clf__C=0.001, vect__ngram_range=(2, 2), score=0.535, total=  30.4s\n",
      "[CV] clf__C=0.001, vect__ngram_range=(2, 2) ..........................\n"
     ]
    },
    {
     "name": "stderr",
     "output_type": "stream",
     "text": [
      "[Parallel(n_jobs=1)]: Done   5 out of   5 | elapsed:  2.5min remaining:    0.0s\n"
     ]
    },
    {
     "name": "stdout",
     "output_type": "stream",
     "text": [
      "[CV]  clf__C=0.001, vect__ngram_range=(2, 2), score=0.535, total=  30.5s\n",
      "[CV] clf__C=0.01, vect__ngram_range=(1, 1) ...........................\n"
     ]
    },
    {
     "name": "stderr",
     "output_type": "stream",
     "text": [
      "[Parallel(n_jobs=1)]: Done   6 out of   6 | elapsed:  3.0min remaining:    0.0s\n"
     ]
    },
    {
     "name": "stdout",
     "output_type": "stream",
     "text": [
      "[CV]  clf__C=0.01, vect__ngram_range=(1, 1), score=0.533, total=  27.9s\n",
      "[CV] clf__C=0.01, vect__ngram_range=(1, 1) ...........................\n"
     ]
    },
    {
     "name": "stderr",
     "output_type": "stream",
     "text": [
      "[Parallel(n_jobs=1)]: Done   7 out of   7 | elapsed:  3.5min remaining:    0.0s\n"
     ]
    },
    {
     "name": "stdout",
     "output_type": "stream",
     "text": [
      "[CV]  clf__C=0.01, vect__ngram_range=(1, 1), score=0.535, total=  33.0s\n",
      "[CV] clf__C=0.01, vect__ngram_range=(1, 1) ...........................\n"
     ]
    },
    {
     "name": "stderr",
     "output_type": "stream",
     "text": [
      "[Parallel(n_jobs=1)]: Done   8 out of   8 | elapsed:  4.0min remaining:    0.0s\n"
     ]
    },
    {
     "name": "stdout",
     "output_type": "stream",
     "text": [
      "[CV]  clf__C=0.01, vect__ngram_range=(1, 1), score=0.535, total=  27.7s\n",
      "[CV] clf__C=0.01, vect__ngram_range=(2, 2) ...........................\n"
     ]
    },
    {
     "name": "stderr",
     "output_type": "stream",
     "text": [
      "[Parallel(n_jobs=1)]: Done   9 out of   9 | elapsed:  4.5min remaining:    0.0s\n"
     ]
    },
    {
     "name": "stdout",
     "output_type": "stream",
     "text": [
      "[CV]  clf__C=0.01, vect__ngram_range=(2, 2), score=0.533, total=  31.4s\n",
      "[CV] clf__C=0.01, vect__ngram_range=(2, 2) ...........................\n",
      "[CV]  clf__C=0.01, vect__ngram_range=(2, 2), score=0.535, total=  29.2s\n",
      "[CV] clf__C=0.01, vect__ngram_range=(2, 2) ...........................\n",
      "[CV]  clf__C=0.01, vect__ngram_range=(2, 2), score=0.535, total=  29.4s\n",
      "[CV] clf__C=0.1, vect__ngram_range=(1, 1) ............................\n",
      "[CV]  clf__C=0.1, vect__ngram_range=(1, 1), score=0.533, total=  29.0s\n",
      "[CV] clf__C=0.1, vect__ngram_range=(1, 1) ............................\n",
      "[CV]  clf__C=0.1, vect__ngram_range=(1, 1), score=0.535, total=  26.9s\n",
      "[CV] clf__C=0.1, vect__ngram_range=(1, 1) ............................\n",
      "[CV]  clf__C=0.1, vect__ngram_range=(1, 1), score=0.535, total=  27.0s\n",
      "[CV] clf__C=0.1, vect__ngram_range=(2, 2) ............................\n",
      "[CV]  clf__C=0.1, vect__ngram_range=(2, 2), score=0.533, total=  31.2s\n",
      "[CV] clf__C=0.1, vect__ngram_range=(2, 2) ............................\n",
      "[CV]  clf__C=0.1, vect__ngram_range=(2, 2), score=0.535, total=  30.5s\n",
      "[CV] clf__C=0.1, vect__ngram_range=(2, 2) ............................\n",
      "[CV]  clf__C=0.1, vect__ngram_range=(2, 2), score=0.535, total=  30.9s\n",
      "[CV] clf__C=1, vect__ngram_range=(1, 1) ..............................\n",
      "[CV] .. clf__C=1, vect__ngram_range=(1, 1), score=0.519, total=  28.7s\n",
      "[CV] clf__C=1, vect__ngram_range=(1, 1) ..............................\n",
      "[CV] .. clf__C=1, vect__ngram_range=(1, 1), score=0.517, total=  28.7s\n",
      "[CV] clf__C=1, vect__ngram_range=(1, 1) ..............................\n",
      "[CV] .. clf__C=1, vect__ngram_range=(1, 1), score=0.496, total=  28.2s\n",
      "[CV] clf__C=1, vect__ngram_range=(2, 2) ..............................\n",
      "[CV] .. clf__C=1, vect__ngram_range=(2, 2), score=0.531, total=  41.7s\n",
      "[CV] clf__C=1, vect__ngram_range=(2, 2) ..............................\n",
      "[CV] .. clf__C=1, vect__ngram_range=(2, 2), score=0.536, total=  33.9s\n",
      "[CV] clf__C=1, vect__ngram_range=(2, 2) ..............................\n",
      "[CV] .. clf__C=1, vect__ngram_range=(2, 2), score=0.531, total=  36.0s\n",
      "[CV] clf__C=10, vect__ngram_range=(1, 1) .............................\n",
      "[CV] . clf__C=10, vect__ngram_range=(1, 1), score=0.502, total=  29.8s\n",
      "[CV] clf__C=10, vect__ngram_range=(1, 1) .............................\n",
      "[CV] . clf__C=10, vect__ngram_range=(1, 1), score=0.501, total=  31.1s\n",
      "[CV] clf__C=10, vect__ngram_range=(1, 1) .............................\n",
      "[CV] . clf__C=10, vect__ngram_range=(1, 1), score=0.504, total=  29.8s\n",
      "[CV] clf__C=10, vect__ngram_range=(2, 2) .............................\n",
      "[CV] . clf__C=10, vect__ngram_range=(2, 2), score=0.502, total=  35.8s\n",
      "[CV] clf__C=10, vect__ngram_range=(2, 2) .............................\n",
      "[CV] . clf__C=10, vect__ngram_range=(2, 2), score=0.525, total=  35.3s\n",
      "[CV] clf__C=10, vect__ngram_range=(2, 2) .............................\n",
      "[CV] . clf__C=10, vect__ngram_range=(2, 2), score=0.514, total=  34.3s\n",
      "[CV] clf__C=100, vect__ngram_range=(1, 1) ............................\n",
      "[CV]  clf__C=100, vect__ngram_range=(1, 1), score=0.504, total=  31.3s\n",
      "[CV] clf__C=100, vect__ngram_range=(1, 1) ............................\n",
      "[CV]  clf__C=100, vect__ngram_range=(1, 1), score=0.517, total=  30.1s\n",
      "[CV] clf__C=100, vect__ngram_range=(1, 1) ............................\n",
      "[CV]  clf__C=100, vect__ngram_range=(1, 1), score=0.501, total=  32.6s\n",
      "[CV] clf__C=100, vect__ngram_range=(2, 2) ............................\n",
      "[CV]  clf__C=100, vect__ngram_range=(2, 2), score=0.502, total=  35.7s\n",
      "[CV] clf__C=100, vect__ngram_range=(2, 2) ............................\n",
      "[CV]  clf__C=100, vect__ngram_range=(2, 2), score=0.515, total=  44.7s\n",
      "[CV] clf__C=100, vect__ngram_range=(2, 2) ............................\n",
      "[CV]  clf__C=100, vect__ngram_range=(2, 2), score=0.499, total=  57.4s\n",
      "[CV] clf__C=1000, vect__ngram_range=(1, 1) ...........................\n",
      "[CV]  clf__C=1000, vect__ngram_range=(1, 1), score=0.488, total=  47.7s\n",
      "[CV] clf__C=1000, vect__ngram_range=(1, 1) ...........................\n",
      "[CV]  clf__C=1000, vect__ngram_range=(1, 1), score=0.520, total=  49.6s\n",
      "[CV] clf__C=1000, vect__ngram_range=(1, 1) ...........................\n",
      "[CV]  clf__C=1000, vect__ngram_range=(1, 1), score=0.501, total=  44.6s\n",
      "[CV] clf__C=1000, vect__ngram_range=(2, 2) ...........................\n",
      "[CV]  clf__C=1000, vect__ngram_range=(2, 2), score=0.501, total= 1.1min\n",
      "[CV] clf__C=1000, vect__ngram_range=(2, 2) ...........................\n",
      "[CV]  clf__C=1000, vect__ngram_range=(2, 2), score=0.509, total=  55.7s\n",
      "[CV] clf__C=1000, vect__ngram_range=(2, 2) ...........................\n",
      "[CV]  clf__C=1000, vect__ngram_range=(2, 2), score=0.504, total=  50.8s\n",
      "[CV] clf__C=10000, vect__ngram_range=(1, 1) ..........................\n",
      "[CV]  clf__C=10000, vect__ngram_range=(1, 1), score=0.491, total=  43.4s\n",
      "[CV] clf__C=10000, vect__ngram_range=(1, 1) ..........................\n",
      "[CV]  clf__C=10000, vect__ngram_range=(1, 1), score=0.522, total=  45.2s\n",
      "[CV] clf__C=10000, vect__ngram_range=(1, 1) ..........................\n",
      "[CV]  clf__C=10000, vect__ngram_range=(1, 1), score=0.498, total=  43.0s\n",
      "[CV] clf__C=10000, vect__ngram_range=(2, 2) ..........................\n",
      "[CV]  clf__C=10000, vect__ngram_range=(2, 2), score=0.501, total=  43.8s\n",
      "[CV] clf__C=10000, vect__ngram_range=(2, 2) ..........................\n",
      "[CV]  clf__C=10000, vect__ngram_range=(2, 2), score=0.512, total=  52.0s\n",
      "[CV] clf__C=10000, vect__ngram_range=(2, 2) ..........................\n",
      "[CV]  clf__C=10000, vect__ngram_range=(2, 2), score=0.499, total=  58.8s\n"
     ]
    },
    {
     "name": "stderr",
     "output_type": "stream",
     "text": [
      "[Parallel(n_jobs=1)]: Done  48 out of  48 | elapsed: 29.4min finished\n"
     ]
    },
    {
     "data": {
      "text/plain": [
       "GridSearchCV(cv=3,\n",
       "             estimator=Pipeline(steps=[('vect',\n",
       "                                        CountVectorizer(stop_words='english',\n",
       "                                                        tokenizer=<function tokenize at 0x7ffc391583b0>)),\n",
       "                                       ('tfidf', TfidfTransformer()),\n",
       "                                       ('clf', LogisticRegression(C=0.001))]),\n",
       "             param_grid={'clf__C': [0.001, 0.01, 0.1, 1, 10, 100, 1000, 10000],\n",
       "                         'vect__ngram_range': ((1, 1), (2, 2))},\n",
       "             verbose=10)"
      ]
     },
     "execution_count": 99,
     "metadata": {},
     "output_type": "execute_result"
    }
   ],
   "source": [
    "Grid_new.fit(x_train, y_train)"
   ]
  },
  {
   "cell_type": "code",
   "execution_count": 100,
   "metadata": {},
   "outputs": [
    {
     "data": {
      "text/plain": [
       "{'clf__C': 0.001, 'vect__ngram_range': (1, 1)}"
      ]
     },
     "execution_count": 100,
     "metadata": {},
     "output_type": "execute_result"
    }
   ],
   "source": [
    "Grid_new.best_params_"
   ]
  },
  {
   "cell_type": "code",
   "execution_count": 101,
   "metadata": {},
   "outputs": [
    {
     "name": "stdout",
     "output_type": "stream",
     "text": [
      "              precision    recall  f1-score   support\n",
      "\n",
      "           0       0.00      0.00      0.00       186\n",
      "           1       0.51      1.00      0.67       192\n",
      "\n",
      "    accuracy                           0.51       378\n",
      "   macro avg       0.25      0.50      0.34       378\n",
      "weighted avg       0.26      0.51      0.34       378\n",
      "\n"
     ]
    }
   ],
   "source": [
    "# improved predicting results \n",
    "y_im_pred = Grid_new.predict(x_test)\n",
    "\n",
    "print(classification_report(y_test, y_im_pred))"
   ]
  },
  {
   "cell_type": "markdown",
   "metadata": {},
   "source": [
    "In the article post, we will ingore the Logistic Regression model for further model refinement steps because its results are not ideal after GridSearch CV. "
   ]
  },
  {
   "cell_type": "code",
   "execution_count": null,
   "metadata": {},
   "outputs": [],
   "source": []
  }
 ],
 "metadata": {
  "kernelspec": {
   "display_name": "Python 3",
   "language": "python",
   "name": "python3"
  },
  "language_info": {
   "codemirror_mode": {
    "name": "ipython",
    "version": 3
   },
   "file_extension": ".py",
   "mimetype": "text/x-python",
   "name": "python",
   "nbconvert_exporter": "python",
   "pygments_lexer": "ipython3",
   "version": "3.7.6"
  }
 },
 "nbformat": 4,
 "nbformat_minor": 4
}
